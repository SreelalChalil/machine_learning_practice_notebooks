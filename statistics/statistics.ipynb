{
 "cells": [
  {
   "cell_type": "markdown",
   "source": [
    "## 1. Permutations and Combinations of Array Elements"
   ],
   "metadata": {}
  },
  {
   "cell_type": "code",
   "execution_count": 3,
   "source": [
    "from itertools import permutations, combinations \r\n",
    "import numpy as np\r\n",
    "import itertools\r\n",
    "import math\r\n",
    "x = np.array(['A', 'B', 'C', 'D'])\r\n",
    "print(len(list(combinations(x, 2))))\r\n",
    "print(len(list(permutations(x, 2))))"
   ],
   "outputs": [
    {
     "output_type": "stream",
     "name": "stdout",
     "text": [
      "6\n",
      "12\n"
     ]
    }
   ],
   "metadata": {}
  },
  {
   "cell_type": "markdown",
   "source": [
    "## 2. Probability - 1"
   ],
   "metadata": {}
  },
  {
   "cell_type": "code",
   "execution_count": 4,
   "source": [
    "import math\r\n",
    "boy = math.factorial(6)/((math.factorial(3))*math.factorial(3))\r\n",
    "girl = math.factorial(5)/((math.factorial(2))*math.factorial(3))\r\n",
    "print(boy*girl)"
   ],
   "outputs": [
    {
     "output_type": "stream",
     "name": "stdout",
     "text": [
      "200.0\n"
     ]
    }
   ],
   "metadata": {}
  },
  {
   "cell_type": "markdown",
   "source": [
    "## 3. Statistics"
   ],
   "metadata": {}
  },
  {
   "cell_type": "code",
   "execution_count": 5,
   "source": [
    "import numpy as np\r\n",
    "import statistics as st\r\n",
    "x = np.array([9.2, 10.7, 6.8, 9, 3.4, 5.7, 5.7])\r\n",
    "mean = np.mean(x)\r\n",
    "median = np.median(x)\r\n",
    "variance = np.var(x)\r\n",
    "sd = np.std(x)\r\n",
    "mode = st.mode(x)\r\n",
    "print(mean)\r\n",
    "print(median)\r\n",
    "print(sd)\r\n",
    "print(variance)\r\n",
    "print(mode)"
   ],
   "outputs": [
    {
     "output_type": "stream",
     "name": "stdout",
     "text": [
      "7.214285714285715\n",
      "6.8\n",
      "2.3479039718916295\n",
      "5.512653061224489\n",
      "5.7\n"
     ]
    }
   ],
   "metadata": {}
  },
  {
   "cell_type": "markdown",
   "source": [
    "## 4. Probability - 2"
   ],
   "metadata": {}
  },
  {
   "cell_type": "code",
   "execution_count": 6,
   "source": [
    "s = 1/4\r\n",
    "sw = 1/4\r\n",
    "p = s+sw\r\n",
    "print(p)"
   ],
   "outputs": [
    {
     "output_type": "stream",
     "name": "stdout",
     "text": [
      "0.5\n"
     ]
    }
   ],
   "metadata": {}
  },
  {
   "cell_type": "markdown",
   "source": [
    "5. Probability - 3"
   ],
   "metadata": {}
  },
  {
   "cell_type": "code",
   "execution_count": 7,
   "source": [
    "pc = 0.09\r\n",
    "pi = 0.32\r\n",
    "pcandi = 0.15\r\n",
    "pcinti = pc+pi-pcandi\r\n",
    "print(pcinti)"
   ],
   "outputs": [
    {
     "output_type": "stream",
     "name": "stdout",
     "text": [
      "0.26\n"
     ]
    }
   ],
   "metadata": {}
  },
  {
   "cell_type": "markdown",
   "source": [
    "6. ## Chi-Square Test"
   ],
   "metadata": {}
  },
  {
   "cell_type": "code",
   "execution_count": 8,
   "source": [
    "from scipy.stats import chi2_contingency\r\n",
    "from scipy.stats import chi2\r\n",
    "\r\n",
    "def chi_test():\r\n",
    "    '''\r\n",
    "    Output\r\n",
    "    1. stat: Float\r\n",
    "    2. dof : Integer\r\n",
    "    3. p_val: Float\r\n",
    "    4. res: String\r\n",
    "    '''\r\n",
    "    #Note: Round off the Float values to 2 decimal places.\r\n",
    "    table=[[18,36,21,9,6],[12,36,45,36,21],[6,9,9,3,3],[3,9,9,6,3]]\r\n",
    "\r\n",
    "    stat,p_val,dof,res=chi2_contingency(table)\r\n",
    "    \r\n",
    "    prob=0.95\r\n",
    "    critical=chi2.ppf(prob, dof)\r\n",
    "\r\n",
    "    if abs(stat) >= critical:\r\n",
    "        res = 'Reject the Null Hypothesis'\r\n",
    "    else:\r\n",
    "        res= 'Failed to reject the Null Hypothesis'\r\n",
    "\r\n",
    "    alpha=1.0-prob\r\n",
    "    if p_val <= alpha:\r\n",
    "        res = 'Reject the Null Hypothesis'\r\n",
    "    else:\r\n",
    "        res = 'Failed to reject the Null Hypothesis'\r\n",
    "    \r\n",
    "    stat = round(stat,2)\r\n",
    "    dof = round(dof,2)\r\n",
    "    p_val = round(p_val,2)\r\n",
    "    \r\n",
    "    \r\n",
    "    return stat,dof,p_val,res   \r\n",
    "\r\n",
    "if __name__=='__main__':\r\n",
    "    print(chi_test())"
   ],
   "outputs": [
    {
     "output_type": "stream",
     "name": "stdout",
     "text": [
      "(23.57, 12, 0.02, 'Reject the Null Hypothesis')\n"
     ]
    }
   ],
   "metadata": {}
  }
 ],
 "metadata": {
  "orig_nbformat": 4,
  "language_info": {
   "name": "python",
   "version": "3.8.8",
   "mimetype": "text/x-python",
   "codemirror_mode": {
    "name": "ipython",
    "version": 3
   },
   "pygments_lexer": "ipython3",
   "nbconvert_exporter": "python",
   "file_extension": ".py"
  },
  "kernelspec": {
   "name": "python3",
   "display_name": "Python 3.8.8 64-bit ('base': conda)"
  },
  "interpreter": {
   "hash": "8f343f9d3947b1bc202c179c79a34308516e8b3cd03799b6703a1156c8f53686"
  }
 },
 "nbformat": 4,
 "nbformat_minor": 2
}