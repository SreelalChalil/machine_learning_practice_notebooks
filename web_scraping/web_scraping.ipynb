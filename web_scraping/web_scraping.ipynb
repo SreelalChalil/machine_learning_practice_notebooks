{
 "cells": [
  {
   "cell_type": "markdown",
   "metadata": {},
   "source": [
    "## Welcome to your first casestudy\n",
    "- In this case study you have to scrape weather data from the website  **\"http://www.estesparkweather.net/archive_reports.php?date=200901\"**\n",
    "- Scrape all the available attributes of weather data for each day from **2009-01-01 to 2018-10-28**\n",
    "- Ignore records for missing days\n",
    "- Represent the scraped data as **pandas dataframe** object."
   ]
  },
  {
   "cell_type": "markdown",
   "metadata": {},
   "source": [
    "### Dataframe specific deatails\n",
    "- Expected column names (order dose not matter):   \n",
    "       ['Average temperature (°F)', 'Average humidity (%)',\n",
    "       'Average dewpoint (°F)', 'Average barometer (in)',\n",
    "       'Average windspeed (mph)', 'Average gustspeed (mph)',\n",
    "       'Average direction (°deg)', 'Rainfall for month (in)',\n",
    "       'Rainfall for year (in)', 'Maximum rain per minute',\n",
    "       'Maximum temperature (°F)', 'Minimum temperature (°F)',\n",
    "       'Maximum humidity (%)', 'Minimum humidity (%)', 'Maximum pressure',\n",
    "       'Minimum pressure', 'Maximum windspeed (mph)',\n",
    "       'Maximum gust speed (mph)', 'Maximum heat index (°F)']\n",
    "- Each record in the dataframe corresponds to weather deatils of a given day\n",
    "- Make sure the index column is **date-time format (yyyy-mm-dd)**\n",
    "- Perform necessary data cleaning and type cast each attributes to relevent data type"
   ]
  },
  {
   "cell_type": "markdown",
   "metadata": {},
   "source": [
    "### Saving the dataframe\n",
    "- Once you are done with you scrapping save your dataframe as pickle file by name 'dataframe.pk'\n",
    "\n",
    "#### Sample code to save pickle file\n",
    "```python\n",
    "import pickle\n",
    "with open(\"dataframe.pk\", \"wb\") as file:\n",
    "    pickle.dump(<your_dataframe>, file)\n",
    "```\n",
    " \n",
    " "
   ]
  },
  {
   "cell_type": "markdown",
   "metadata": {},
   "source": [
    "### Run the below cell to import necessary packages\n",
    "- These packages should be sufficient to perform you task\n",
    "- In case if you are looking are any other packages run **!pip3 install <package_name> --user with in a cell**"
   ]
  },
  {
   "cell_type": "code",
   "execution_count": 1,
   "metadata": {},
   "outputs": [],
   "source": [
    "import bs4\n",
    "from bs4 import BeautifulSoup\n",
    "import csv\n",
    "import requests\n",
    "import time\n",
    "import pandas as pd\n",
    "import urllib\n",
    "import re\n",
    "import pickle"
   ]
  },
  {
   "cell_type": "code",
   "execution_count": 2,
   "metadata": {},
   "outputs": [
    {
     "ename": "SyntaxError",
     "evalue": "invalid syntax (<ipython-input-2-595421931ca5>, line 13)",
     "output_type": "error",
     "traceback": [
      "\u001b[0;36m  File \u001b[0;32m\"<ipython-input-2-595421931ca5>\"\u001b[0;36m, line \u001b[0;32m13\u001b[0m\n\u001b[0;31m    start_date = '2009-01-01'\u001b[0m\n\u001b[0m             ^\u001b[0m\n\u001b[0;31mSyntaxError\u001b[0m\u001b[0;31m:\u001b[0m invalid syntax\n"
     ]
    }
   ],
   "source": [
    "#### Start you code here, you are free to add any number of cells\n",
    "\n",
    "columns_names = ['date','Average temperature (°F)', 'Average humidity (%)',\n",
    " 'Average dewpoint (°F)', 'Average barometer (in)',\n",
    " 'Average windspeed (mph)', 'Average gustspeed (mph)',\n",
    " 'Average direction (°deg)', 'Rainfall for month (in)',\n",
    " 'Rainfall for year (in)', 'Maximum rain per minute',\n",
    " 'Maximum temperature (°F)', 'Minimum temperature (°F)',\n",
    " 'Maximum humidity (%)', 'Minimum humidity (%)', 'Maximum pressure',\n",
    " 'Minimum pressure', 'Maximum windspeed (mph)',\n",
    " 'Maximum gust speed (mph)', 'Maximum heat index (°F)'\n",
    " \n",
    "start_date = '2009-01-01'\n",
    "end_date = '2018-10-28'\n",
    "\n",
    "dates_list = pd.date_range(start=start_date,end=end_date,freq='M')\n",
    "dates = [i.strftime('%Y%m') for i in dates_list]\n",
    "\n",
    "data = []\n",
    "for i in range(len(dates)):\n",
    "    url = \"http://www.estesparkweather.net/archive_reports.php?date=\"+dates[i]\n",
    "    page = requests.get(URL)\n",
    "    soup = BeautifulSoup(page.content,\"html.parser\")\n",
    "    table = soup.find_all('table')\n",
    "    raw_data = [row.text.splitlines() for row in table]\n",
    "    raw_data = raw_data[:-9]\n",
    "    year = dates[i][:4]\n",
    "    for i in range(len(raw_data)):\n",
    "        raw_data[i] = raw_data[i][2::3]\n",
    "    for day in raw_data:\n",
    "        index_dt = datetime.datetime.strptime(day[0][:5]+' '+year,'%b %m %Y')\n",
    "        index_str = index_dt.strftime('%Y-%m-%d')\n",
    "        Average_temperature = re.search('[0-9]+\\.[0-9]+',day[1]).group()\n",
    "        Average_humidity = re.search('[0-9]+',day[2]).group()\n",
    "        Average_dewpoint = re.search('[0-9]+\\.[0-9]+',day[3]).group()\n",
    "        Average_barometer = re.search('[0-9]+\\.[0-9]+',day[4]).group()\n",
    "        Average_windspeed = re.search('[0-9]+\\.[0-9]+',day[5]).group()\n",
    "        Average_gustspeed = re.search('[0-9]+\\.[0-9]+',day[6]).group()\n",
    "        Average_direction = re.search('[0-9]+',day[7]).group()\n",
    "        rainfall_month = re.search('[0-9]+\\.[0-9]+',day[8]).group()\n",
    "        rainfall_year = re.search('[0-9]+\\.[0-9]+',day[9]).group()\n",
    "        max_rain_per_min = re.search('[0-9]+\\.[0-9]+',day[10]).group()\n",
    "        Maximum_temperature = re.search('[0-9]+\\.[0-9]+',day[11]).group()\n",
    "        Minimum_temperature = re.search('[0-9]+\\.[0-9]+',day[12]).group()\n",
    "        Maximum_humidity = re.search('[0-9]+',day[13]).group()\n",
    "        Minimum_humidity = re.search('[0-9]+',day[14]).group()\n",
    "        Maximum_pressure  = re.search('[0-9]+\\.[0-9]+',day[15]).group()\n",
    "        Minimum_pressure = re.search('[0-9]+\\.[0-9]+',day[16]).group()\n",
    "        Maximum_windspeed = re.search('[0-9]+\\.[0-9]+',day[17]).group()\n",
    "        Maximum_gust_speed = re.search('[0-9]+',day[18]).group()\n",
    "        Maximum_heat_index = re.search('[0-9]+',day[19]).group()\n",
    "        data.append([index_str,Average_temperature,Average_humidity,Average_dewpoint,Average_barometer,Average_windspeed,Average_gustspeed,\n",
    "                    Average_direction,rainfall_month,rainfall_year,max_rain_per_min,Maximum_temperature,Minimum_temperature,\n",
    "                    Maximum_humidity,Minimum_humidity,Maximum_pressure,Minimum_pressure,Maximum_windspeed,Maximum_gust_speed,Maximum_heat_index])       \n",
    "                    \n",
    "df = pd.DataFrame(data=data,columns=columns_names)\n",
    "df.head()\n",
    "\n",
    "df['date'] = pd.to_datetime(df['date'], format=\"%Y-%m-%d\")\n",
    "\n",
    "df1 = df.copy()\n",
    "df1.set_index('date',inplace=True)\n",
    "\n",
    "for col in df1.columns:\n",
    "    df1[col] = df1[col].astype('float')\n",
    "    \n",
    "with open(\"dataframe.pk\", \"wb\") as file:\n",
    "    pickle.dump(df1, file)    \n",
    "\n",
    "\n",
    "\n",
    "\n",
    "\n",
    "\n",
    "\n",
    "\n",
    "\n",
    "\n",
    "\n",
    "\n",
    "\n",
    "\n"
   ]
  },
  {
   "cell_type": "code",
   "execution_count": null,
   "metadata": {},
   "outputs": [],
   "source": []
  }
 ],
 "metadata": {
  "kernelspec": {
   "display_name": "Python 3",
   "language": "python",
   "name": "python3"
  },
  "language_info": {
   "codemirror_mode": {
    "name": "ipython",
    "version": 3
   },
   "file_extension": ".py",
   "mimetype": "text/x-python",
   "name": "python",
   "nbconvert_exporter": "python",
   "pygments_lexer": "ipython3",
   "version": "3.5.2"
  }
 },
 "nbformat": 4,
 "nbformat_minor": 2
}
