{
 "cells": [
  {
   "cell_type": "markdown",
   "source": [
    "Welcome to the first Hands On Exercise on Tensor Flow. In this exercise , you will try out some basic commands that you have learnt in the course. \n",
    "We have created this Python Notebook with all the necessary things needed for completing this exercise. \n",
    "You have to write your code in between the area mentioned \n",
    "\n",
    "`## Start Code` \n",
    "\n",
    "Your Code here \n",
    "\n",
    "`## End Code` "
   ],
   "metadata": {}
  },
  {
   "cell_type": "markdown",
   "source": [
    "Importing the necessary libraries "
   ],
   "metadata": {}
  },
  {
   "cell_type": "code",
   "execution_count": 1,
   "source": [
    "import tensorflow as tf\r\n",
    "import numpy as np"
   ],
   "outputs": [],
   "metadata": {
    "colab": {
     "autoexec": {
      "startup": false,
      "wait_interval": 0
     }
    },
    "colab_type": "code",
    "id": "q3j32hbioxDY"
   }
  },
  {
   "cell_type": "markdown",
   "source": [
    "Using numpy initialize two matrix with values **[1,3,4],[3,5,3],[4,5,3]** and **[2,5,7],[3,6,8],[2,6,9]** as **matrix1** and **matrix2** respectively"
   ],
   "metadata": {
    "colab_type": "text",
    "id": "7ra89CtiR9EM"
   }
  },
  {
   "cell_type": "code",
   "execution_count": 2,
   "source": [
    "## Start Code \r\n",
    "\r\n",
    "matrix1 = np.array([ [1,3,4],[3,5,3],[4,5,3]])\r\n",
    "matrix2 = np.array([ [2,5,7],[3,6,8],[2,6,9] ])\r\n",
    "\r\n",
    "## End Code "
   ],
   "outputs": [],
   "metadata": {
    "colab": {
     "autoexec": {
      "startup": false,
      "wait_interval": 0
     }
    },
    "colab_type": "code",
    "id": "hy7k7ikdptDa"
   }
  },
  {
   "cell_type": "markdown",
   "source": [
    "covert **matrix1** and **matrix2** to **tensorflow object** and call them as **tf_mat1** and **tf_mat2**, make sure to specify datatype as **\"float64\"**"
   ],
   "metadata": {
    "colab_type": "text",
    "id": "mxnFUwf5ScSb"
   }
  },
  {
   "cell_type": "code",
   "execution_count": 7,
   "source": [
    "## Start Code \r\n",
    "\r\n",
    "tf_mat1 = tf.convert_to_tensor(matrix1, dtype=\"float64\")\r\n",
    "tf_mat2 = tf.convert_to_tensor(matrix2, dtype=\"float64\")\r\n",
    "\r\n",
    "## End Code "
   ],
   "outputs": [],
   "metadata": {
    "colab": {
     "autoexec": {
      "startup": false,
      "wait_interval": 0
     }
    },
    "colab_type": "code",
    "id": "5IP6iTLo1clo"
   }
  },
  {
   "cell_type": "markdown",
   "source": [
    "initilise **tensorflow variables a and b** with matrix tf_mat1 and tf_mat2 respectively.\n",
    "Also initialize all the variables before performing the operation. "
   ],
   "metadata": {
    "colab_type": "text",
    "id": "sgXKcc2rTaHB"
   }
  },
  {
   "cell_type": "code",
   "execution_count": 8,
   "source": [
    "## Start Code\r\n",
    "\r\n",
    "a = tf.Variable(tf_mat1)\r\n",
    "b = tf.Variable(tf_mat2)\r\n",
    "init = tf.global_variables_initializer()\r\n",
    "\r\n",
    "## End Code "
   ],
   "outputs": [],
   "metadata": {
    "colab": {
     "autoexec": {
      "startup": false,
      "wait_interval": 0
     }
    },
    "colab_type": "code",
    "id": "fhwQr5IGp9SZ"
   }
  },
  {
   "cell_type": "markdown",
   "source": [
    "Perform **elementwise** matrix multiplication on a, b and assign it to **final_mat1** variable "
   ],
   "metadata": {
    "colab_type": "text",
    "id": "tKFQ0GJ8UGgo"
   }
  },
  {
   "cell_type": "code",
   "execution_count": 9,
   "source": [
    "## Start Code \r\n",
    "final_mat1 = tf.math.multiply(a,b)\r\n",
    "## End Code\r\n",
    "\r\n",
    "determinant1 = tf.matrix_determinant(final_mat1)\r\n",
    "\r\n",
    " "
   ],
   "outputs": [],
   "metadata": {
    "colab": {
     "autoexec": {
      "startup": false,
      "wait_interval": 0
     }
    },
    "colab_type": "code",
    "id": "8u1ji4vuqAEZ"
   }
  },
  {
   "cell_type": "markdown",
   "source": [
    "Perform **dot product** on **matrix a**, and **transpose of b** . "
   ],
   "metadata": {
    "colab_type": "text",
    "id": "FMVQViMMUnbi"
   }
  },
  {
   "cell_type": "code",
   "execution_count": 11,
   "source": [
    "## Start Code \r\n",
    "b_inv = tf.transpose(b)\r\n",
    "final_mat2 = tf.tensordot(a,b_inv,axes=1)\r\n",
    "## End Code \r\n",
    "\r\n",
    "determinant2 = tf.matrix_determinant(final_mat2)"
   ],
   "outputs": [],
   "metadata": {}
  },
  {
   "cell_type": "markdown",
   "source": [
    "Execute the below piece of code. "
   ],
   "metadata": {
    "colab_type": "text",
    "id": "K0OpL2guVICe"
   }
  },
  {
   "cell_type": "code",
   "execution_count": 12,
   "source": [
    "text_file = open(\"Output.txt\", \"w\")"
   ],
   "outputs": [],
   "metadata": {}
  },
  {
   "cell_type": "code",
   "execution_count": 13,
   "source": [
    "with tf.Session() as sess:\r\n",
    "    sess.run(init)\r\n",
    "    with open(\"Output.txt\", \"w\") as text_file:\r\n",
    "        text_file.write(\"determinant1 %f\\n\" % sess.run(determinant1))\r\n",
    "        text_file.write(\"determinant2 %f\" % sess.run(determinant2))    "
   ],
   "outputs": [],
   "metadata": {}
  }
 ],
 "metadata": {
  "colab": {
   "collapsed_sections": [],
   "default_view": {},
   "name": "Basics.ipynb",
   "provenance": [],
   "version": "0.3.2",
   "views": {}
  },
  "kernelspec": {
   "display_name": "Python 3",
   "language": "python",
   "name": "python3"
  },
  "language_info": {
   "codemirror_mode": {
    "name": "ipython",
    "version": 3
   },
   "file_extension": ".py",
   "mimetype": "text/x-python",
   "name": "python",
   "nbconvert_exporter": "python",
   "pygments_lexer": "ipython3",
   "version": "3.5.2"
  }
 },
 "nbformat": 4,
 "nbformat_minor": 1
}