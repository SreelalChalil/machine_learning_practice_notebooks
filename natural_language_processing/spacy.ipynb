{
 "cells": [
  {
   "cell_type": "code",
   "execution_count": 9,
   "source": [
    "import spacy\r\n",
    "from spacy import Language\r\n",
    "nlp = spacy.load('en_core_web_sm')"
   ],
   "outputs": [],
   "metadata": {}
  },
  {
   "cell_type": "markdown",
   "source": [
    "You can use spaCy to create a processed Doc object, which is a container for accessing linguistic annotations, for a given input string:"
   ],
   "metadata": {}
  },
  {
   "cell_type": "code",
   "execution_count": 18,
   "source": [
    "introduction_text = ('This tutorial is about Natural Language Processing in Spacy.')\r\n",
    "introduction_doc = nlp(introduction_text)\r\n",
    "# Extract tokens for the given doc\r\n",
    "print ([token.text for token in introduction_doc])"
   ],
   "outputs": [
    {
     "output_type": "stream",
     "name": "stdout",
     "text": [
      "['This', 'tutorial', 'is', 'about', 'Natural', 'Language', 'Processing', 'in', 'Spacy', '.']\n"
     ]
    }
   ],
   "metadata": {}
  },
  {
   "cell_type": "markdown",
   "source": [
    "In the above example, notice how the text is converted to an object that is understood by spaCy. You can use this method to convert any text into a processed Doc object and deduce attributes, which will be covered in the coming sections."
   ],
   "metadata": {}
  },
  {
   "cell_type": "markdown",
   "source": [
    "**READING FROM FILE**"
   ],
   "metadata": {}
  },
  {
   "cell_type": "code",
   "execution_count": 19,
   "source": [
    "file_name = 'sreelal.txt'\r\n",
    "introduction_file_text = open(file_name).read()\r\n",
    "introduction_file_doc = nlp(introduction_file_text)\r\n",
    "# Extract tokens for the given doc\r\n",
    "print ([token.text for token in introduction_file_doc])"
   ],
   "outputs": [
    {
     "output_type": "stream",
     "name": "stdout",
     "text": [
      "['Hello', ',', 'My', 'name', 'is', 'Sreelal', 'C.', 'I', \"'m\", 'a', 'software', 'Engineer', 'working', 'at', 'Tata', 'Consultancy', 'Services', '.', 'I', \"'m\", 'passionate', 'about', 'technology', 'and', 'loves', 'working', 'in', 'Artificial', 'Intelligence', 'or', 'Machine', 'Learning', '.']\n"
     ]
    }
   ],
   "metadata": {}
  },
  {
   "cell_type": "markdown",
   "source": [
    "**SENTENCE DETECTION**\n",
    "\n",
    "Sentence Detection is the process of locating the start and end of sentences in a given text. This allows you to you divide a text into linguistically meaningful units. You’ll use these units when you’re processing your text to perform tasks such as part of speech tagging and entity extraction.\n",
    "\n",
    "In spaCy, the sents property is used to extract sentences. Here’s how you would extract the total number of sentences and the sentences for a given input text:"
   ],
   "metadata": {}
  },
  {
   "cell_type": "code",
   "execution_count": 20,
   "source": [
    "sentences = list(introduction_file_doc.sents)\r\n",
    "print(len(sentences))\r\n",
    "for sentence in sentences:\r\n",
    "    print(sentence)"
   ],
   "outputs": [
    {
     "output_type": "stream",
     "name": "stdout",
     "text": [
      "3\n",
      "Hello, My name is Sreelal C.\n",
      "I'm a software Engineer working at Tata Consultancy Services.\n",
      "I'm passionate about technology and loves working in Artificial Intelligence or Machine Learning.\n"
     ]
    }
   ],
   "metadata": {}
  },
  {
   "cell_type": "markdown",
   "source": [
    "In the above example, spaCy is correctly able to identify sentences in the English language, using a full stop(.) as the sentence delimiter. You can also customize the sentence detection to detect sentences on custom delimiters.\n",
    "\n",
    "Here’s an example, where an ellipsis(...) is used as the delimiter:"
   ],
   "metadata": {}
  },
  {
   "cell_type": "code",
   "execution_count": 21,
   "source": [
    "@Language.component('set_custom_boundaries')\r\n",
    "def set_custom_boundaries(doc):\r\n",
    "    # Adds support to use `...` as the delimiter for sentence detection\r\n",
    "    for token in doc[:-1]:\r\n",
    "        if token.text == '...':\r\n",
    "             doc[token.i+1].is_sent_start = True\r\n",
    "    return doc\r\n",
    "\r\n",
    "ellipsis_text = ('Gus, can you, ... never mind, I forgot'\r\n",
    "                  ' what I was saying. So, do you think'\r\n",
    "                  ' we should ...')\r\n",
    "# Load a new model instance\r\n",
    "custom_nlp = spacy.load('en_core_web_sm')\r\n",
    "custom_nlp.add_pipe('set_custom_boundaries', before='parser')\r\n",
    "custom_ellipsis_doc = custom_nlp(ellipsis_text)\r\n",
    "custom_ellipsis_sentences = list(custom_ellipsis_doc.sents)\r\n",
    "for sentence in custom_ellipsis_sentences:\r\n",
    "     print(sentence)\r\n",
    "\r\n",
    "# Sentence Detection with no customization\r\n",
    "ellipsis_doc = nlp(ellipsis_text)\r\n",
    "ellipsis_sentences = list(ellipsis_doc.sents)\r\n",
    "for sentence in ellipsis_sentences:\r\n",
    "     print(sentence)"
   ],
   "outputs": [
    {
     "output_type": "stream",
     "name": "stdout",
     "text": [
      "Gus, can you, ...\n",
      "never mind, I forgot what I was saying.\n",
      "So, do you think we should ...\n",
      "Gus, can you, ... never mind, I forgot what I was saying.\n",
      "So, do you think we should ...\n"
     ]
    }
   ],
   "metadata": {}
  },
  {
   "cell_type": "markdown",
   "source": [
    "**Tokenization in spaCy**\n",
    "\n",
    "Tokenization is the next step after sentence detection. It allows you to identify the basic units in your text. These basic units are called tokens. Tokenization is useful because it breaks a text into meaningful units. These units are used for further analysis, like part of speech tagging.\n",
    "\n",
    "In spaCy, you can print tokens by iterating on the Doc object:"
   ],
   "metadata": {}
  },
  {
   "cell_type": "code",
   "execution_count": 22,
   "source": [
    "for token in introduction_file_doc:\r\n",
    "    print (token, token.idx)"
   ],
   "outputs": [
    {
     "output_type": "stream",
     "name": "stdout",
     "text": [
      "Hello 0\n",
      ", 5\n",
      "My 7\n",
      "name 10\n",
      "is 15\n",
      "Sreelal 18\n",
      "C. 26\n",
      "I 29\n",
      "'m 30\n",
      "a 33\n",
      "software 35\n",
      "Engineer 44\n",
      "working 53\n",
      "at 61\n",
      "Tata 64\n",
      "Consultancy 69\n",
      "Services 81\n",
      ". 89\n",
      "I 91\n",
      "'m 92\n",
      "passionate 95\n",
      "about 106\n",
      "technology 112\n",
      "and 123\n",
      "loves 127\n",
      "working 133\n",
      "in 141\n",
      "Artificial 144\n",
      "Intelligence 155\n",
      "or 168\n",
      "Machine 171\n",
      "Learning 179\n",
      ". 187\n"
     ]
    }
   ],
   "metadata": {}
  },
  {
   "cell_type": "markdown",
   "source": [
    "- **text_with_ws** prints token text with trailing space (if present).\n",
    "- **is_alpha detects** if the token consists of alphabetic characters or not.\n",
    "- **is_punct** detects if the token is a punctuation symbol or not.\n",
    "- **is_space** detects if the token is a space or not.\n",
    "- **shape_ prints** out the shape of the word.\n",
    "- **is_stop** detects if the token is a stop word or not."
   ],
   "metadata": {}
  },
  {
   "cell_type": "code",
   "execution_count": 23,
   "source": [
    "for token in introduction_file_doc:\r\n",
    "    print (token, token.idx, token.text_with_ws, token.is_alpha, token.is_punct, token.is_space, \\\r\n",
    "           token.shape_, token.is_stop)"
   ],
   "outputs": [
    {
     "output_type": "stream",
     "name": "stdout",
     "text": [
      "Hello 0 Hello True False False Xxxxx False\n",
      ", 5 ,  False True False , False\n",
      "My 7 My  True False False Xx True\n",
      "name 10 name  True False False xxxx True\n",
      "is 15 is  True False False xx True\n",
      "Sreelal 18 Sreelal  True False False Xxxxx False\n",
      "C. 26 C.  False False False X. False\n",
      "I 29 I True False False X True\n",
      "'m 30 'm  False False False 'x True\n",
      "a 33 a  True False False x True\n",
      "software 35 software  True False False xxxx False\n",
      "Engineer 44 Engineer  True False False Xxxxx False\n",
      "working 53 working  True False False xxxx False\n",
      "at 61 at  True False False xx True\n",
      "Tata 64 Tata  True False False Xxxx False\n",
      "Consultancy 69 Consultancy  True False False Xxxxx False\n",
      "Services 81 Services True False False Xxxxx False\n",
      ". 89 .  False True False . False\n",
      "I 91 I True False False X True\n",
      "'m 92 'm  False False False 'x True\n",
      "passionate 95 passionate  True False False xxxx False\n",
      "about 106 about  True False False xxxx True\n",
      "technology 112 technology  True False False xxxx False\n",
      "and 123 and  True False False xxx True\n",
      "loves 127 loves  True False False xxxx False\n",
      "working 133 working  True False False xxxx False\n",
      "in 141 in  True False False xx True\n",
      "Artificial 144 Artificial  True False False Xxxxx False\n",
      "Intelligence 155 Intelligence  True False False Xxxxx False\n",
      "or 168 or  True False False xx True\n",
      "Machine 171 Machine  True False False Xxxxx False\n",
      "Learning 179 Learning True False False Xxxxx False\n",
      ". 187 . False True False . False\n"
     ]
    }
   ],
   "metadata": {}
  },
  {
   "cell_type": "markdown",
   "source": [
    "**REMOVING STOP WORDS**"
   ],
   "metadata": {}
  },
  {
   "cell_type": "code",
   "execution_count": 24,
   "source": [
    "for token in introduction_file_doc:\r\n",
    "    if not token.is_stop:\r\n",
    "        print (token)"
   ],
   "outputs": [
    {
     "output_type": "stream",
     "name": "stdout",
     "text": [
      "Hello\n",
      ",\n",
      "Sreelal\n",
      "C.\n",
      "software\n",
      "Engineer\n",
      "working\n",
      "Tata\n",
      "Consultancy\n",
      "Services\n",
      ".\n",
      "passionate\n",
      "technology\n",
      "loves\n",
      "working\n",
      "Artificial\n",
      "Intelligence\n",
      "Machine\n",
      "Learning\n",
      ".\n"
     ]
    }
   ],
   "metadata": {}
  },
  {
   "cell_type": "code",
   "execution_count": 25,
   "source": [
    "about_no_stopword_doc = [token for token in introduction_file_doc if not token.is_stop]\r\n",
    "print (about_no_stopword_doc)"
   ],
   "outputs": [
    {
     "output_type": "stream",
     "name": "stdout",
     "text": [
      "[Hello, ,, Sreelal, C., software, Engineer, working, Tata, Consultancy, Services, ., passionate, technology, loves, working, Artificial, Intelligence, Machine, Learning, .]\n"
     ]
    }
   ],
   "metadata": {}
  },
  {
   "cell_type": "markdown",
   "source": [
    "**LEMMATIZATION**"
   ],
   "metadata": {}
  },
  {
   "cell_type": "code",
   "execution_count": 26,
   "source": [
    "for token in introduction_file_doc:\r\n",
    "    print(token, token.lemma_)"
   ],
   "outputs": [
    {
     "output_type": "stream",
     "name": "stdout",
     "text": [
      "Hello hello\n",
      ", ,\n",
      "My my\n",
      "name name\n",
      "is be\n",
      "Sreelal Sreelal\n",
      "C. C.\n",
      "I I\n",
      "'m be\n",
      "a a\n",
      "software software\n",
      "Engineer Engineer\n",
      "working work\n",
      "at at\n",
      "Tata Tata\n",
      "Consultancy Consultancy\n",
      "Services Services\n",
      ". .\n",
      "I I\n",
      "'m be\n",
      "passionate passionate\n",
      "about about\n",
      "technology technology\n",
      "and and\n",
      "loves love\n",
      "working work\n",
      "in in\n",
      "Artificial Artificial\n",
      "Intelligence Intelligence\n",
      "or or\n",
      "Machine Machine\n",
      "Learning Learning\n",
      ". .\n"
     ]
    }
   ],
   "metadata": {}
  },
  {
   "cell_type": "code",
   "execution_count": 32,
   "source": [
    "from spacy import displacy\r\n",
    "about_interest_text = ('He is interested in learning Natural Language Processing.')\r\n",
    "about_interest_doc = nlp(about_interest_text)\r\n",
    "displacy.render(about_interest_doc, style='ent', jupyter=True)"
   ],
   "outputs": [
    {
     "output_type": "display_data",
     "data": {
      "text/html": [
       "<span class=\"tex2jax_ignore\"><div class=\"entities\" style=\"line-height: 2.5; direction: ltr\">He is interested in learning \n",
       "<mark class=\"entity\" style=\"background: #f0d0ff; padding: 0.45em 0.6em; margin: 0 0.25em; line-height: 1; border-radius: 0.35em;\">\n",
       "    Natural Language Processing\n",
       "    <span style=\"font-size: 0.8em; font-weight: bold; line-height: 1; border-radius: 0.35em; vertical-align: middle; margin-left: 0.5rem\">WORK_OF_ART</span>\n",
       "</mark>\n",
       ".</div></span>"
      ],
      "text/plain": [
       "<IPython.core.display.HTML object>"
      ]
     },
     "metadata": {}
    }
   ],
   "metadata": {}
  },
  {
   "cell_type": "code",
   "execution_count": 33,
   "source": [
    "about_interest_text = ('He is interested in learning Natural Language Processing.')\r\n",
    "about_interest_doc = nlp(about_interest_text)\r\n",
    "displacy.render(about_interest_doc, style='dep', jupyter=True)"
   ],
   "outputs": [
    {
     "output_type": "display_data",
     "data": {
      "text/html": [
       "<span class=\"tex2jax_ignore\"><svg xmlns=\"http://www.w3.org/2000/svg\" xmlns:xlink=\"http://www.w3.org/1999/xlink\" xml:lang=\"en\" id=\"d24e7be4ca254e2d8e2a80a4b560ea21-0\" class=\"displacy\" width=\"1450\" height=\"312.0\" direction=\"ltr\" style=\"max-width: none; height: 312.0px; color: #000000; background: #ffffff; font-family: Arial; direction: ltr\">\n",
       "<text class=\"displacy-token\" fill=\"currentColor\" text-anchor=\"middle\" y=\"222.0\">\n",
       "    <tspan class=\"displacy-word\" fill=\"currentColor\" x=\"50\">He</tspan>\n",
       "    <tspan class=\"displacy-tag\" dy=\"2em\" fill=\"currentColor\" x=\"50\">PRON</tspan>\n",
       "</text>\n",
       "\n",
       "<text class=\"displacy-token\" fill=\"currentColor\" text-anchor=\"middle\" y=\"222.0\">\n",
       "    <tspan class=\"displacy-word\" fill=\"currentColor\" x=\"225\">is</tspan>\n",
       "    <tspan class=\"displacy-tag\" dy=\"2em\" fill=\"currentColor\" x=\"225\">AUX</tspan>\n",
       "</text>\n",
       "\n",
       "<text class=\"displacy-token\" fill=\"currentColor\" text-anchor=\"middle\" y=\"222.0\">\n",
       "    <tspan class=\"displacy-word\" fill=\"currentColor\" x=\"400\">interested</tspan>\n",
       "    <tspan class=\"displacy-tag\" dy=\"2em\" fill=\"currentColor\" x=\"400\">ADJ</tspan>\n",
       "</text>\n",
       "\n",
       "<text class=\"displacy-token\" fill=\"currentColor\" text-anchor=\"middle\" y=\"222.0\">\n",
       "    <tspan class=\"displacy-word\" fill=\"currentColor\" x=\"575\">in</tspan>\n",
       "    <tspan class=\"displacy-tag\" dy=\"2em\" fill=\"currentColor\" x=\"575\">ADP</tspan>\n",
       "</text>\n",
       "\n",
       "<text class=\"displacy-token\" fill=\"currentColor\" text-anchor=\"middle\" y=\"222.0\">\n",
       "    <tspan class=\"displacy-word\" fill=\"currentColor\" x=\"750\">learning</tspan>\n",
       "    <tspan class=\"displacy-tag\" dy=\"2em\" fill=\"currentColor\" x=\"750\">VERB</tspan>\n",
       "</text>\n",
       "\n",
       "<text class=\"displacy-token\" fill=\"currentColor\" text-anchor=\"middle\" y=\"222.0\">\n",
       "    <tspan class=\"displacy-word\" fill=\"currentColor\" x=\"925\">Natural</tspan>\n",
       "    <tspan class=\"displacy-tag\" dy=\"2em\" fill=\"currentColor\" x=\"925\">PROPN</tspan>\n",
       "</text>\n",
       "\n",
       "<text class=\"displacy-token\" fill=\"currentColor\" text-anchor=\"middle\" y=\"222.0\">\n",
       "    <tspan class=\"displacy-word\" fill=\"currentColor\" x=\"1100\">Language</tspan>\n",
       "    <tspan class=\"displacy-tag\" dy=\"2em\" fill=\"currentColor\" x=\"1100\">PROPN</tspan>\n",
       "</text>\n",
       "\n",
       "<text class=\"displacy-token\" fill=\"currentColor\" text-anchor=\"middle\" y=\"222.0\">\n",
       "    <tspan class=\"displacy-word\" fill=\"currentColor\" x=\"1275\">Processing.</tspan>\n",
       "    <tspan class=\"displacy-tag\" dy=\"2em\" fill=\"currentColor\" x=\"1275\">PROPN</tspan>\n",
       "</text>\n",
       "\n",
       "<g class=\"displacy-arrow\">\n",
       "    <path class=\"displacy-arc\" id=\"arrow-d24e7be4ca254e2d8e2a80a4b560ea21-0-0\" stroke-width=\"2px\" d=\"M70,177.0 C70,89.5 220.0,89.5 220.0,177.0\" fill=\"none\" stroke=\"currentColor\"/>\n",
       "    <text dy=\"1.25em\" style=\"font-size: 0.8em; letter-spacing: 1px\">\n",
       "        <textPath xlink:href=\"#arrow-d24e7be4ca254e2d8e2a80a4b560ea21-0-0\" class=\"displacy-label\" startOffset=\"50%\" side=\"left\" fill=\"currentColor\" text-anchor=\"middle\">nsubj</textPath>\n",
       "    </text>\n",
       "    <path class=\"displacy-arrowhead\" d=\"M70,179.0 L62,167.0 78,167.0\" fill=\"currentColor\"/>\n",
       "</g>\n",
       "\n",
       "<g class=\"displacy-arrow\">\n",
       "    <path class=\"displacy-arc\" id=\"arrow-d24e7be4ca254e2d8e2a80a4b560ea21-0-1\" stroke-width=\"2px\" d=\"M245,177.0 C245,89.5 395.0,89.5 395.0,177.0\" fill=\"none\" stroke=\"currentColor\"/>\n",
       "    <text dy=\"1.25em\" style=\"font-size: 0.8em; letter-spacing: 1px\">\n",
       "        <textPath xlink:href=\"#arrow-d24e7be4ca254e2d8e2a80a4b560ea21-0-1\" class=\"displacy-label\" startOffset=\"50%\" side=\"left\" fill=\"currentColor\" text-anchor=\"middle\">acomp</textPath>\n",
       "    </text>\n",
       "    <path class=\"displacy-arrowhead\" d=\"M395.0,179.0 L403.0,167.0 387.0,167.0\" fill=\"currentColor\"/>\n",
       "</g>\n",
       "\n",
       "<g class=\"displacy-arrow\">\n",
       "    <path class=\"displacy-arc\" id=\"arrow-d24e7be4ca254e2d8e2a80a4b560ea21-0-2\" stroke-width=\"2px\" d=\"M420,177.0 C420,89.5 570.0,89.5 570.0,177.0\" fill=\"none\" stroke=\"currentColor\"/>\n",
       "    <text dy=\"1.25em\" style=\"font-size: 0.8em; letter-spacing: 1px\">\n",
       "        <textPath xlink:href=\"#arrow-d24e7be4ca254e2d8e2a80a4b560ea21-0-2\" class=\"displacy-label\" startOffset=\"50%\" side=\"left\" fill=\"currentColor\" text-anchor=\"middle\">prep</textPath>\n",
       "    </text>\n",
       "    <path class=\"displacy-arrowhead\" d=\"M570.0,179.0 L578.0,167.0 562.0,167.0\" fill=\"currentColor\"/>\n",
       "</g>\n",
       "\n",
       "<g class=\"displacy-arrow\">\n",
       "    <path class=\"displacy-arc\" id=\"arrow-d24e7be4ca254e2d8e2a80a4b560ea21-0-3\" stroke-width=\"2px\" d=\"M595,177.0 C595,89.5 745.0,89.5 745.0,177.0\" fill=\"none\" stroke=\"currentColor\"/>\n",
       "    <text dy=\"1.25em\" style=\"font-size: 0.8em; letter-spacing: 1px\">\n",
       "        <textPath xlink:href=\"#arrow-d24e7be4ca254e2d8e2a80a4b560ea21-0-3\" class=\"displacy-label\" startOffset=\"50%\" side=\"left\" fill=\"currentColor\" text-anchor=\"middle\">pcomp</textPath>\n",
       "    </text>\n",
       "    <path class=\"displacy-arrowhead\" d=\"M745.0,179.0 L753.0,167.0 737.0,167.0\" fill=\"currentColor\"/>\n",
       "</g>\n",
       "\n",
       "<g class=\"displacy-arrow\">\n",
       "    <path class=\"displacy-arc\" id=\"arrow-d24e7be4ca254e2d8e2a80a4b560ea21-0-4\" stroke-width=\"2px\" d=\"M945,177.0 C945,89.5 1095.0,89.5 1095.0,177.0\" fill=\"none\" stroke=\"currentColor\"/>\n",
       "    <text dy=\"1.25em\" style=\"font-size: 0.8em; letter-spacing: 1px\">\n",
       "        <textPath xlink:href=\"#arrow-d24e7be4ca254e2d8e2a80a4b560ea21-0-4\" class=\"displacy-label\" startOffset=\"50%\" side=\"left\" fill=\"currentColor\" text-anchor=\"middle\">compound</textPath>\n",
       "    </text>\n",
       "    <path class=\"displacy-arrowhead\" d=\"M945,179.0 L937,167.0 953,167.0\" fill=\"currentColor\"/>\n",
       "</g>\n",
       "\n",
       "<g class=\"displacy-arrow\">\n",
       "    <path class=\"displacy-arc\" id=\"arrow-d24e7be4ca254e2d8e2a80a4b560ea21-0-5\" stroke-width=\"2px\" d=\"M1120,177.0 C1120,89.5 1270.0,89.5 1270.0,177.0\" fill=\"none\" stroke=\"currentColor\"/>\n",
       "    <text dy=\"1.25em\" style=\"font-size: 0.8em; letter-spacing: 1px\">\n",
       "        <textPath xlink:href=\"#arrow-d24e7be4ca254e2d8e2a80a4b560ea21-0-5\" class=\"displacy-label\" startOffset=\"50%\" side=\"left\" fill=\"currentColor\" text-anchor=\"middle\">compound</textPath>\n",
       "    </text>\n",
       "    <path class=\"displacy-arrowhead\" d=\"M1120,179.0 L1112,167.0 1128,167.0\" fill=\"currentColor\"/>\n",
       "</g>\n",
       "\n",
       "<g class=\"displacy-arrow\">\n",
       "    <path class=\"displacy-arc\" id=\"arrow-d24e7be4ca254e2d8e2a80a4b560ea21-0-6\" stroke-width=\"2px\" d=\"M770,177.0 C770,2.0 1275.0,2.0 1275.0,177.0\" fill=\"none\" stroke=\"currentColor\"/>\n",
       "    <text dy=\"1.25em\" style=\"font-size: 0.8em; letter-spacing: 1px\">\n",
       "        <textPath xlink:href=\"#arrow-d24e7be4ca254e2d8e2a80a4b560ea21-0-6\" class=\"displacy-label\" startOffset=\"50%\" side=\"left\" fill=\"currentColor\" text-anchor=\"middle\">dobj</textPath>\n",
       "    </text>\n",
       "    <path class=\"displacy-arrowhead\" d=\"M1275.0,179.0 L1283.0,167.0 1267.0,167.0\" fill=\"currentColor\"/>\n",
       "</g>\n",
       "</svg></span>"
      ],
      "text/plain": [
       "<IPython.core.display.HTML object>"
      ]
     },
     "metadata": {}
    }
   ],
   "metadata": {}
  }
 ],
 "metadata": {
  "kernelspec": {
   "name": "python3",
   "display_name": "Python 3.8.8 64-bit ('base': conda)"
  },
  "language_info": {
   "codemirror_mode": {
    "name": "ipython",
    "version": 3
   },
   "file_extension": ".py",
   "mimetype": "text/x-python",
   "name": "python",
   "nbconvert_exporter": "python",
   "pygments_lexer": "ipython3",
   "version": "3.8.8"
  },
  "interpreter": {
   "hash": "8f343f9d3947b1bc202c179c79a34308516e8b3cd03799b6703a1156c8f53686"
  }
 },
 "nbformat": 4,
 "nbformat_minor": 4
}